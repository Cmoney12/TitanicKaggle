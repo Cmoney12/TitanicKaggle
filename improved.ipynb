{
 "cells": [
  {
   "cell_type": "code",
   "execution_count": 1,
   "id": "fe729fcf",
   "metadata": {
    "_cell_guid": "b1076dfc-b9ad-4769-8c92-a6c4dae69d19",
    "_uuid": "8f2839f25d086af736a60e9eeb907d3b93b6e0e5",
    "execution": {
     "iopub.execute_input": "2024-11-09T00:15:32.694112Z",
     "iopub.status.busy": "2024-11-09T00:15:32.693605Z",
     "iopub.status.idle": "2024-11-09T00:15:37.924251Z",
     "shell.execute_reply": "2024-11-09T00:15:37.923182Z"
    },
    "papermill": {
     "duration": 5.240558,
     "end_time": "2024-11-09T00:15:37.926926",
     "exception": false,
     "start_time": "2024-11-09T00:15:32.686368",
     "status": "completed"
    },
    "tags": []
   },
   "outputs": [
    {
     "name": "stdout",
     "output_type": "stream",
     "text": [
      "/kaggle/input/titanic/train.csv\n",
      "/kaggle/input/titanic/test.csv\n",
      "/kaggle/input/titanic/gender_submission.csv\n"
     ]
    }
   ],
   "source": [
    "# This Python 3 environment comes with many helpful analytics libraries installed\n",
    "# It is defined by the kaggle/python Docker image: https://github.com/kaggle/docker-python\n",
    "# For example, here's several helpful packages to load\n",
    "\n",
    "import numpy as np\n",
    "import pandas as pd\n",
    "import torch\n",
    "import torch.nn as nn\n",
    "from torch.utils.data import Dataset, DataLoader\n",
    "from sklearn.model_selection import train_test_split\n",
    "from sklearn.preprocessing import StandardScaler, LabelEncoder\n",
    "from sklearn.metrics import accuracy_score\n",
    "\n",
    "# Input data files are available in the read-only \"../input/\" directory\n",
    "# For example, running this (by clicking run or pressing Shift+Enter) will list all files under the input directory\n",
    "\n",
    "import os\n",
    "for dirname, _, filenames in os.walk('/kaggle/input'):\n",
    "    for filename in filenames:\n",
    "        print(os.path.join(dirname, filename))\n",
    "\n",
    "# You can write up to 20GB to the current directory (/kaggle/working/) that gets preserved as output when you create a version using \"Save & Run All\" \n",
    "# You can also write temporary files to /kaggle/temp/, but they won't be saved outside of the current session"
   ]
  },
  {
   "cell_type": "code",
   "execution_count": 2,
   "id": "5758083a",
   "metadata": {
    "execution": {
     "iopub.execute_input": "2024-11-09T00:15:37.938255Z",
     "iopub.status.busy": "2024-11-09T00:15:37.937721Z",
     "iopub.status.idle": "2024-11-09T00:15:37.979781Z",
     "shell.execute_reply": "2024-11-09T00:15:37.978589Z"
    },
    "papermill": {
     "duration": 0.05035,
     "end_time": "2024-11-09T00:15:37.982129",
     "exception": false,
     "start_time": "2024-11-09T00:15:37.931779",
     "status": "completed"
    },
    "tags": []
   },
   "outputs": [
    {
     "data": {
      "text/html": [
       "<div>\n",
       "<style scoped>\n",
       "    .dataframe tbody tr th:only-of-type {\n",
       "        vertical-align: middle;\n",
       "    }\n",
       "\n",
       "    .dataframe tbody tr th {\n",
       "        vertical-align: top;\n",
       "    }\n",
       "\n",
       "    .dataframe thead th {\n",
       "        text-align: right;\n",
       "    }\n",
       "</style>\n",
       "<table border=\"1\" class=\"dataframe\">\n",
       "  <thead>\n",
       "    <tr style=\"text-align: right;\">\n",
       "      <th></th>\n",
       "      <th>PassengerId</th>\n",
       "      <th>Survived</th>\n",
       "      <th>Pclass</th>\n",
       "      <th>Name</th>\n",
       "      <th>Sex</th>\n",
       "      <th>Age</th>\n",
       "      <th>SibSp</th>\n",
       "      <th>Parch</th>\n",
       "      <th>Ticket</th>\n",
       "      <th>Fare</th>\n",
       "      <th>Cabin</th>\n",
       "      <th>Embarked</th>\n",
       "    </tr>\n",
       "  </thead>\n",
       "  <tbody>\n",
       "    <tr>\n",
       "      <th>0</th>\n",
       "      <td>1</td>\n",
       "      <td>0</td>\n",
       "      <td>3</td>\n",
       "      <td>Braund, Mr. Owen Harris</td>\n",
       "      <td>male</td>\n",
       "      <td>22.0</td>\n",
       "      <td>1</td>\n",
       "      <td>0</td>\n",
       "      <td>A/5 21171</td>\n",
       "      <td>7.2500</td>\n",
       "      <td>NaN</td>\n",
       "      <td>S</td>\n",
       "    </tr>\n",
       "    <tr>\n",
       "      <th>1</th>\n",
       "      <td>2</td>\n",
       "      <td>1</td>\n",
       "      <td>1</td>\n",
       "      <td>Cumings, Mrs. John Bradley (Florence Briggs Th...</td>\n",
       "      <td>female</td>\n",
       "      <td>38.0</td>\n",
       "      <td>1</td>\n",
       "      <td>0</td>\n",
       "      <td>PC 17599</td>\n",
       "      <td>71.2833</td>\n",
       "      <td>C85</td>\n",
       "      <td>C</td>\n",
       "    </tr>\n",
       "    <tr>\n",
       "      <th>2</th>\n",
       "      <td>3</td>\n",
       "      <td>1</td>\n",
       "      <td>3</td>\n",
       "      <td>Heikkinen, Miss. Laina</td>\n",
       "      <td>female</td>\n",
       "      <td>26.0</td>\n",
       "      <td>0</td>\n",
       "      <td>0</td>\n",
       "      <td>STON/O2. 3101282</td>\n",
       "      <td>7.9250</td>\n",
       "      <td>NaN</td>\n",
       "      <td>S</td>\n",
       "    </tr>\n",
       "    <tr>\n",
       "      <th>3</th>\n",
       "      <td>4</td>\n",
       "      <td>1</td>\n",
       "      <td>1</td>\n",
       "      <td>Futrelle, Mrs. Jacques Heath (Lily May Peel)</td>\n",
       "      <td>female</td>\n",
       "      <td>35.0</td>\n",
       "      <td>1</td>\n",
       "      <td>0</td>\n",
       "      <td>113803</td>\n",
       "      <td>53.1000</td>\n",
       "      <td>C123</td>\n",
       "      <td>S</td>\n",
       "    </tr>\n",
       "    <tr>\n",
       "      <th>4</th>\n",
       "      <td>5</td>\n",
       "      <td>0</td>\n",
       "      <td>3</td>\n",
       "      <td>Allen, Mr. William Henry</td>\n",
       "      <td>male</td>\n",
       "      <td>35.0</td>\n",
       "      <td>0</td>\n",
       "      <td>0</td>\n",
       "      <td>373450</td>\n",
       "      <td>8.0500</td>\n",
       "      <td>NaN</td>\n",
       "      <td>S</td>\n",
       "    </tr>\n",
       "  </tbody>\n",
       "</table>\n",
       "</div>"
      ],
      "text/plain": [
       "   PassengerId  Survived  Pclass  \\\n",
       "0            1         0       3   \n",
       "1            2         1       1   \n",
       "2            3         1       3   \n",
       "3            4         1       1   \n",
       "4            5         0       3   \n",
       "\n",
       "                                                Name     Sex   Age  SibSp  \\\n",
       "0                            Braund, Mr. Owen Harris    male  22.0      1   \n",
       "1  Cumings, Mrs. John Bradley (Florence Briggs Th...  female  38.0      1   \n",
       "2                             Heikkinen, Miss. Laina  female  26.0      0   \n",
       "3       Futrelle, Mrs. Jacques Heath (Lily May Peel)  female  35.0      1   \n",
       "4                           Allen, Mr. William Henry    male  35.0      0   \n",
       "\n",
       "   Parch            Ticket     Fare Cabin Embarked  \n",
       "0      0         A/5 21171   7.2500   NaN        S  \n",
       "1      0          PC 17599  71.2833   C85        C  \n",
       "2      0  STON/O2. 3101282   7.9250   NaN        S  \n",
       "3      0            113803  53.1000  C123        S  \n",
       "4      0            373450   8.0500   NaN        S  "
      ]
     },
     "execution_count": 2,
     "metadata": {},
     "output_type": "execute_result"
    }
   ],
   "source": [
    "train_data = pd.read_csv(\"/kaggle/input/titanic/train.csv\")\n",
    "train_data.head()"
   ]
  },
  {
   "cell_type": "code",
   "execution_count": 3,
   "id": "7c47bcc7",
   "metadata": {
    "execution": {
     "iopub.execute_input": "2024-11-09T00:15:37.993580Z",
     "iopub.status.busy": "2024-11-09T00:15:37.993142Z",
     "iopub.status.idle": "2024-11-09T00:15:38.014637Z",
     "shell.execute_reply": "2024-11-09T00:15:38.013482Z"
    },
    "papermill": {
     "duration": 0.029992,
     "end_time": "2024-11-09T00:15:38.017063",
     "exception": false,
     "start_time": "2024-11-09T00:15:37.987071",
     "status": "completed"
    },
    "tags": []
   },
   "outputs": [
    {
     "data": {
      "text/html": [
       "<div>\n",
       "<style scoped>\n",
       "    .dataframe tbody tr th:only-of-type {\n",
       "        vertical-align: middle;\n",
       "    }\n",
       "\n",
       "    .dataframe tbody tr th {\n",
       "        vertical-align: top;\n",
       "    }\n",
       "\n",
       "    .dataframe thead th {\n",
       "        text-align: right;\n",
       "    }\n",
       "</style>\n",
       "<table border=\"1\" class=\"dataframe\">\n",
       "  <thead>\n",
       "    <tr style=\"text-align: right;\">\n",
       "      <th></th>\n",
       "      <th>PassengerId</th>\n",
       "      <th>Pclass</th>\n",
       "      <th>Name</th>\n",
       "      <th>Sex</th>\n",
       "      <th>Age</th>\n",
       "      <th>SibSp</th>\n",
       "      <th>Parch</th>\n",
       "      <th>Ticket</th>\n",
       "      <th>Fare</th>\n",
       "      <th>Cabin</th>\n",
       "      <th>Embarked</th>\n",
       "    </tr>\n",
       "  </thead>\n",
       "  <tbody>\n",
       "    <tr>\n",
       "      <th>0</th>\n",
       "      <td>892</td>\n",
       "      <td>3</td>\n",
       "      <td>Kelly, Mr. James</td>\n",
       "      <td>male</td>\n",
       "      <td>34.5</td>\n",
       "      <td>0</td>\n",
       "      <td>0</td>\n",
       "      <td>330911</td>\n",
       "      <td>7.8292</td>\n",
       "      <td>NaN</td>\n",
       "      <td>Q</td>\n",
       "    </tr>\n",
       "    <tr>\n",
       "      <th>1</th>\n",
       "      <td>893</td>\n",
       "      <td>3</td>\n",
       "      <td>Wilkes, Mrs. James (Ellen Needs)</td>\n",
       "      <td>female</td>\n",
       "      <td>47.0</td>\n",
       "      <td>1</td>\n",
       "      <td>0</td>\n",
       "      <td>363272</td>\n",
       "      <td>7.0000</td>\n",
       "      <td>NaN</td>\n",
       "      <td>S</td>\n",
       "    </tr>\n",
       "    <tr>\n",
       "      <th>2</th>\n",
       "      <td>894</td>\n",
       "      <td>2</td>\n",
       "      <td>Myles, Mr. Thomas Francis</td>\n",
       "      <td>male</td>\n",
       "      <td>62.0</td>\n",
       "      <td>0</td>\n",
       "      <td>0</td>\n",
       "      <td>240276</td>\n",
       "      <td>9.6875</td>\n",
       "      <td>NaN</td>\n",
       "      <td>Q</td>\n",
       "    </tr>\n",
       "    <tr>\n",
       "      <th>3</th>\n",
       "      <td>895</td>\n",
       "      <td>3</td>\n",
       "      <td>Wirz, Mr. Albert</td>\n",
       "      <td>male</td>\n",
       "      <td>27.0</td>\n",
       "      <td>0</td>\n",
       "      <td>0</td>\n",
       "      <td>315154</td>\n",
       "      <td>8.6625</td>\n",
       "      <td>NaN</td>\n",
       "      <td>S</td>\n",
       "    </tr>\n",
       "    <tr>\n",
       "      <th>4</th>\n",
       "      <td>896</td>\n",
       "      <td>3</td>\n",
       "      <td>Hirvonen, Mrs. Alexander (Helga E Lindqvist)</td>\n",
       "      <td>female</td>\n",
       "      <td>22.0</td>\n",
       "      <td>1</td>\n",
       "      <td>1</td>\n",
       "      <td>3101298</td>\n",
       "      <td>12.2875</td>\n",
       "      <td>NaN</td>\n",
       "      <td>S</td>\n",
       "    </tr>\n",
       "  </tbody>\n",
       "</table>\n",
       "</div>"
      ],
      "text/plain": [
       "   PassengerId  Pclass                                          Name     Sex  \\\n",
       "0          892       3                              Kelly, Mr. James    male   \n",
       "1          893       3              Wilkes, Mrs. James (Ellen Needs)  female   \n",
       "2          894       2                     Myles, Mr. Thomas Francis    male   \n",
       "3          895       3                              Wirz, Mr. Albert    male   \n",
       "4          896       3  Hirvonen, Mrs. Alexander (Helga E Lindqvist)  female   \n",
       "\n",
       "    Age  SibSp  Parch   Ticket     Fare Cabin Embarked  \n",
       "0  34.5      0      0   330911   7.8292   NaN        Q  \n",
       "1  47.0      1      0   363272   7.0000   NaN        S  \n",
       "2  62.0      0      0   240276   9.6875   NaN        Q  \n",
       "3  27.0      0      0   315154   8.6625   NaN        S  \n",
       "4  22.0      1      1  3101298  12.2875   NaN        S  "
      ]
     },
     "execution_count": 3,
     "metadata": {},
     "output_type": "execute_result"
    }
   ],
   "source": [
    "test_data = pd.read_csv(\"/kaggle/input/titanic/test.csv\")\n",
    "test_data.head()"
   ]
  },
  {
   "cell_type": "code",
   "execution_count": 4,
   "id": "1eeeaf20",
   "metadata": {
    "execution": {
     "iopub.execute_input": "2024-11-09T00:15:38.028587Z",
     "iopub.status.busy": "2024-11-09T00:15:38.028186Z",
     "iopub.status.idle": "2024-11-09T00:15:38.040768Z",
     "shell.execute_reply": "2024-11-09T00:15:38.039497Z"
    },
    "papermill": {
     "duration": 0.020918,
     "end_time": "2024-11-09T00:15:38.043012",
     "exception": false,
     "start_time": "2024-11-09T00:15:38.022094",
     "status": "completed"
    },
    "tags": []
   },
   "outputs": [
    {
     "name": "stdout",
     "output_type": "stream",
     "text": [
      "% of women who survived: 0.7420382165605095\n"
     ]
    }
   ],
   "source": [
    "women = train_data.loc[train_data.Sex == 'female']['Survived']\n",
    "rate_women = sum(women)/len(women)\n",
    "\n",
    "print(\"% of women who survived:\", rate_women)"
   ]
  },
  {
   "cell_type": "code",
   "execution_count": 5,
   "id": "fa8d6685",
   "metadata": {
    "execution": {
     "iopub.execute_input": "2024-11-09T00:15:38.055209Z",
     "iopub.status.busy": "2024-11-09T00:15:38.054784Z",
     "iopub.status.idle": "2024-11-09T00:15:38.062213Z",
     "shell.execute_reply": "2024-11-09T00:15:38.061198Z"
    },
    "papermill": {
     "duration": 0.016253,
     "end_time": "2024-11-09T00:15:38.064639",
     "exception": false,
     "start_time": "2024-11-09T00:15:38.048386",
     "status": "completed"
    },
    "tags": []
   },
   "outputs": [
    {
     "name": "stdout",
     "output_type": "stream",
     "text": [
      "% of men who survived: 0.18890814558058924\n"
     ]
    }
   ],
   "source": [
    "men = train_data.loc[train_data.Sex == 'male'][\"Survived\"]\n",
    "rate_men = sum(men)/len(men)\n",
    "\n",
    "print(\"% of men who survived:\", rate_men)"
   ]
  },
  {
   "cell_type": "code",
   "execution_count": 6,
   "id": "87523c9f",
   "metadata": {
    "execution": {
     "iopub.execute_input": "2024-11-09T00:15:38.076091Z",
     "iopub.status.busy": "2024-11-09T00:15:38.075478Z",
     "iopub.status.idle": "2024-11-09T00:15:38.083882Z",
     "shell.execute_reply": "2024-11-09T00:15:38.082838Z"
    },
    "papermill": {
     "duration": 0.016715,
     "end_time": "2024-11-09T00:15:38.086246",
     "exception": false,
     "start_time": "2024-11-09T00:15:38.069531",
     "status": "completed"
    },
    "tags": []
   },
   "outputs": [],
   "source": [
    "# Preprocessing\n",
    "def preprocess_data(df, is_training=True):\n",
    "    df = df.copy()\n",
    "    \n",
    "    # Fill missing values\n",
    "    df['Age'] = df['Age'].fillna(df['Age'].median())\n",
    "    df['Fare'] = df['Fare'].fillna(df['Fare'].median())\n",
    "    df['Embarked'] = df['Embarked'].fillna(df['Embarked'].mode()[0])\n",
    "    \n",
    "    # Select features\n",
    "    features = ['Pclass', 'Sex', 'Age', 'Fare', 'Embarked', 'SibSp', 'Parch']\n",
    "    X = df[features].copy()\n",
    "    \n",
    "    # Convert categorical variables\n",
    "    le_sex = LabelEncoder()\n",
    "    le_embarked = LabelEncoder()\n",
    "    \n",
    "    X['Sex'] = le_sex.fit_transform(X['Sex'])\n",
    "    X['Embarked'] = le_embarked.fit_transform(X['Embarked'])\n",
    "    \n",
    "    # Standardize numerical features\n",
    "    scaler = StandardScaler()\n",
    "    numerical_features = ['Age', 'Fare', 'SibSp', 'Parch']\n",
    "    X[numerical_features] = scaler.fit_transform(X[numerical_features])\n",
    "    \n",
    "    if is_training:\n",
    "        y = df['Survived'].values\n",
    "        return X, y\n",
    "    return X"
   ]
  },
  {
   "cell_type": "markdown",
   "id": "07580e9d",
   "metadata": {
    "papermill": {
     "duration": 0.004731,
     "end_time": "2024-11-09T00:15:38.096280",
     "exception": false,
     "start_time": "2024-11-09T00:15:38.091549",
     "status": "completed"
    },
    "tags": []
   },
   "source": [
    "This class converts pandas DataFrames to PyTorch tensors and enables efficient batch processing. It's designed to handle both training data (with labels) and test data (without labels), improving memory efficiency by loading data in batches as needed."
   ]
  },
  {
   "cell_type": "code",
   "execution_count": 7,
   "id": "348c0b0c",
   "metadata": {
    "execution": {
     "iopub.execute_input": "2024-11-09T00:15:38.108036Z",
     "iopub.status.busy": "2024-11-09T00:15:38.107633Z",
     "iopub.status.idle": "2024-11-09T00:15:38.114317Z",
     "shell.execute_reply": "2024-11-09T00:15:38.113236Z"
    },
    "papermill": {
     "duration": 0.015223,
     "end_time": "2024-11-09T00:15:38.116484",
     "exception": false,
     "start_time": "2024-11-09T00:15:38.101261",
     "status": "completed"
    },
    "tags": []
   },
   "outputs": [],
   "source": [
    "# Custom Dataset - converting features to PyTorch Tensors\n",
    "class TitanicDataset(Dataset):\n",
    "    def __init__(self, X, y=None):\n",
    "        self.X = torch.FloatTensor(X.values)\n",
    "        self.y = torch.FloatTensor(y) if y is not None else None\n",
    "    def __len__(self):\n",
    "        return len(self.X)\n",
    "    \n",
    "    def __getitem__(self, idx):\n",
    "        if self.y is not None:\n",
    "            return self.X[idx], self.y[idx]\n",
    "        return self.X[idx]"
   ]
  },
  {
   "cell_type": "markdown",
   "id": "fdd75277",
   "metadata": {
    "papermill": {
     "duration": 0.004626,
     "end_time": "2024-11-09T00:15:38.127069",
     "exception": false,
     "start_time": "2024-11-09T00:15:38.122443",
     "status": "completed"
    },
    "tags": []
   },
   "source": [
    "The network architecture gradually refines features through multiple layers. The first large layer (128 neurons) captures complex feature interactions, while subsequent layers reduce dimensionality. Dropout prevents overfitting, and batch normalization stabilizes training. The sigmoid output layer provides survival probability."
   ]
  },
  {
   "cell_type": "markdown",
   "id": "9d2b6e27",
   "metadata": {
    "papermill": {
     "duration": 0.004755,
     "end_time": "2024-11-09T00:15:38.136854",
     "exception": false,
     "start_time": "2024-11-09T00:15:38.132099",
     "status": "completed"
    },
    "tags": []
   },
   "source": [
    "The multiple layers automatically learn feature interactions without us having to specify them. For example, it might discover that young females in first class had different survival patterns than older males in third class, without us explicitly coding these relationships.\n"
   ]
  },
  {
   "cell_type": "code",
   "execution_count": 8,
   "id": "b589560d",
   "metadata": {
    "execution": {
     "iopub.execute_input": "2024-11-09T00:15:38.148904Z",
     "iopub.status.busy": "2024-11-09T00:15:38.147840Z",
     "iopub.status.idle": "2024-11-09T00:15:38.155732Z",
     "shell.execute_reply": "2024-11-09T00:15:38.154630Z"
    },
    "papermill": {
     "duration": 0.016196,
     "end_time": "2024-11-09T00:15:38.157946",
     "exception": false,
     "start_time": "2024-11-09T00:15:38.141750",
     "status": "completed"
    },
    "tags": []
   },
   "outputs": [],
   "source": [
    "# Deep Learning Model\n",
    "class TitanicDeepNN(nn.Module):\n",
    "    def __init__(self, input_dim):\n",
    "        super(TitanicDeepNN, self).__init__()\n",
    "        \n",
    "        self.network = nn.Sequential(\n",
    "            # First layer\n",
    "            nn.Linear(input_dim, 128),\n",
    "            nn.BatchNorm1d(128),\n",
    "            nn.ReLU(),\n",
    "            nn.Dropout(0.3),\n",
    "            \n",
    "            # Second layer\n",
    "            nn.Linear(128, 64),\n",
    "            nn.BatchNorm1d(64),\n",
    "            nn.ReLU(),\n",
    "            nn.Dropout(0.2),\n",
    "            \n",
    "            # Third layer\n",
    "            nn.Linear(64, 32),\n",
    "            nn.BatchNorm1d(32),\n",
    "            nn.ReLU(),\n",
    "            nn.Dropout(0.1),\n",
    "            \n",
    "            # Output layer\n",
    "            nn.Linear(32, 1),\n",
    "            nn.Sigmoid()\n",
    "        )\n",
    "    # The ReLU activations allow the network to learn complex decision boundaries that might better separate survivors \n",
    "    # from non-survivors than simpler linear models.\n",
    "    \n",
    "    def forward(self, x):\n",
    "        return self.network(x)"
   ]
  },
  {
   "cell_type": "markdown",
   "id": "838f3692",
   "metadata": {
    "papermill": {
     "duration": 0.004781,
     "end_time": "2024-11-09T00:15:38.167965",
     "exception": false,
     "start_time": "2024-11-09T00:15:38.163184",
     "status": "completed"
    },
    "tags": []
   },
   "source": [
    "This function implements the training loop with early stopping based on validation accuracy. It uses binary cross-entropy loss for classification and monitors both training and validation metrics to prevent overfitting. Progress is reported every 10 epochs to track improvement."
   ]
  },
  {
   "cell_type": "code",
   "execution_count": 9,
   "id": "2bc3b5db",
   "metadata": {
    "execution": {
     "iopub.execute_input": "2024-11-09T00:15:38.179969Z",
     "iopub.status.busy": "2024-11-09T00:15:38.179082Z",
     "iopub.status.idle": "2024-11-09T00:15:38.190892Z",
     "shell.execute_reply": "2024-11-09T00:15:38.189596Z"
    },
    "papermill": {
     "duration": 0.020304,
     "end_time": "2024-11-09T00:15:38.193228",
     "exception": false,
     "start_time": "2024-11-09T00:15:38.172924",
     "status": "completed"
    },
    "tags": []
   },
   "outputs": [],
   "source": [
    "# Training\n",
    "def train_model(model, train_loader, val_loader, criterion, optimizer, num_epochs=100):\n",
    "    train_losses = []\n",
    "    val_losses = []\n",
    "    val_accuracies = []\n",
    "    best_val_acc = 0\n",
    "    best_model_state = None\n",
    "    \n",
    "    for epoch in range(num_epochs):\n",
    "        # Training Phase\n",
    "        model.train()\n",
    "        running_loss = 0.0\n",
    "        for X_batch, y_batch in train_loader:\n",
    "            optimizer.zero_grad()\n",
    "            outputs = model(X_batch).squeeze()\n",
    "            loss = criterion(outputs, y_batch)\n",
    "            loss.backward()\n",
    "            optimizer.step()\n",
    "            running_loss += loss.item()\n",
    "        \n",
    "        train_loss = running_loss / len(train_loader)\n",
    "        train_losses.append(train_loss)\n",
    "        \n",
    "        # Validation Phase\n",
    "        model.eval()\n",
    "        val_loss = 0.0\n",
    "        correct = 0\n",
    "        total = 0\n",
    "        \n",
    "        with torch.no_grad():\n",
    "            for X_batch, y_batch in val_loader:\n",
    "                outputs = model(X_batch).squeeze()\n",
    "                loss = criterion(outputs, y_batch)\n",
    "                val_loss += loss.item()\n",
    "                \n",
    "                predicted = (outputs > 0.5).float()\n",
    "                total += y_batch.size(0)\n",
    "                correct += (predicted == y_batch).sum().item()\n",
    "        \n",
    "        val_loss = val_loss / len(val_loader)\n",
    "        val_losses.append(val_loss)\n",
    "        \n",
    "        val_accuracy = 100 * correct / total\n",
    "        val_accuracies.append(val_accuracy)\n",
    "        \n",
    "        # Save best model\n",
    "        if val_accuracy > best_val_acc:\n",
    "            best_val_acc = val_accuracy\n",
    "            best_model_state = model.state_dict()\n",
    "        \n",
    "        if (epoch + 1) % 10 == 0:\n",
    "            print(f'Epoch [{epoch+1}/{num_epochs}]')\n",
    "            print(f'Train Loss: {train_loss:.4f}, Val Loss: {val_loss:.4f}')\n",
    "            print(f'Val Accuracy: {val_accuracy:.2f}%')\n",
    "    \n",
    "    # Load best model\n",
    "    model.load_state_dict(best_model_state)\n",
    "    return model, train_losses, val_losses, val_accuracies"
   ]
  },
  {
   "cell_type": "code",
   "execution_count": 10,
   "id": "b9b30bea",
   "metadata": {
    "execution": {
     "iopub.execute_input": "2024-11-09T00:15:38.204799Z",
     "iopub.status.busy": "2024-11-09T00:15:38.204407Z",
     "iopub.status.idle": "2024-11-09T00:15:38.214068Z",
     "shell.execute_reply": "2024-11-09T00:15:38.212888Z"
    },
    "papermill": {
     "duration": 0.018036,
     "end_time": "2024-11-09T00:15:38.216356",
     "exception": false,
     "start_time": "2024-11-09T00:15:38.198320",
     "status": "completed"
    },
    "tags": []
   },
   "outputs": [],
   "source": [
    "# Training Pipeline\n",
    "def run_training_pipeline(train_data, test_data, batch_size=32):\n",
    "    # Preprocess data\n",
    "    X, y = preprocess_data(train_data)\n",
    "    X_test = preprocess_data(test_data, is_training=False)\n",
    "    \n",
    "    # Split training data\n",
    "    X_train, X_val, y_train, y_val = train_test_split(X, y, test_size=0.2, random_state=42)\n",
    "    \n",
    "    # Create datasets\n",
    "    train_dataset = TitanicDataset(X_train, y_train)\n",
    "    val_dataset = TitanicDataset(X_val, y_val)\n",
    "    test_dataset = TitanicDataset(X_test)\n",
    "    \n",
    "    # Create dataloaders\n",
    "    train_loader = DataLoader(train_dataset, batch_size=batch_size, shuffle=True)\n",
    "    val_loader = DataLoader(val_dataset, batch_size=batch_size)\n",
    "    test_loader = DataLoader(test_dataset, batch_size=batch_size)\n",
    "    \n",
    "    # Initialize model\n",
    "    model = TitanicDeepNN(input_dim=X.shape[1])\n",
    "    \n",
    "    # Define loss and optimizer\n",
    "    criterion = nn.BCELoss()\n",
    "    optimizer = torch.optim.AdamW(model.parameters(), lr=0.001, weight_decay=0.01)\n",
    "    \n",
    "    # Train model\n",
    "    model, train_losses, val_losses, val_accuracies = train_model(\n",
    "        model, train_loader, val_loader, criterion, optimizer\n",
    "    )\n",
    "    \n",
    "    # Make predictions on test set\n",
    "    model.eval()\n",
    "    test_predictions = []\n",
    "    with torch.no_grad():\n",
    "        for X_batch in test_loader:\n",
    "            outputs = model(X_batch)\n",
    "            predictions = (outputs > 0.5).float()\n",
    "            test_predictions.extend(predictions.numpy())\n",
    "    \n",
    "    return model, test_predictions, train_losses, val_losses, val_accuracies"
   ]
  },
  {
   "cell_type": "markdown",
   "id": "b57172d3",
   "metadata": {
    "papermill": {
     "duration": 0.004669,
     "end_time": "2024-11-09T00:15:38.225996",
     "exception": false,
     "start_time": "2024-11-09T00:15:38.221327",
     "status": "completed"
    },
    "tags": []
   },
   "source": [
    "The model achieves around 80-84% accuracy, facing challenges with data imbalance and missing values. The current accuracy could be improved through better feature engineering, ensemble methods, and more sophisticated handling of missing data. The deep neural network architecture might be more complex than necessary for this dataset."
   ]
  },
  {
   "cell_type": "code",
   "execution_count": 11,
   "id": "adba1216",
   "metadata": {
    "execution": {
     "iopub.execute_input": "2024-11-09T00:15:38.237515Z",
     "iopub.status.busy": "2024-11-09T00:15:38.236655Z",
     "iopub.status.idle": "2024-11-09T00:15:47.991190Z",
     "shell.execute_reply": "2024-11-09T00:15:47.990221Z"
    },
    "papermill": {
     "duration": 9.764528,
     "end_time": "2024-11-09T00:15:47.995199",
     "exception": false,
     "start_time": "2024-11-09T00:15:38.230671",
     "status": "completed"
    },
    "tags": []
   },
   "outputs": [
    {
     "name": "stdout",
     "output_type": "stream",
     "text": [
      "Starting training pipeline...\n",
      "Epoch [10/100]\n",
      "Train Loss: 0.4369, Val Loss: 0.4392\n",
      "Val Accuracy: 81.01%\n",
      "Epoch [20/100]\n",
      "Train Loss: 0.4364, Val Loss: 0.4449\n",
      "Val Accuracy: 81.56%\n",
      "Epoch [30/100]\n",
      "Train Loss: 0.4059, Val Loss: 0.4396\n",
      "Val Accuracy: 80.45%\n",
      "Epoch [40/100]\n",
      "Train Loss: 0.3992, Val Loss: 0.4479\n",
      "Val Accuracy: 80.45%\n",
      "Epoch [50/100]\n",
      "Train Loss: 0.3842, Val Loss: 0.4431\n",
      "Val Accuracy: 82.12%\n",
      "Epoch [60/100]\n",
      "Train Loss: 0.4189, Val Loss: 0.4425\n",
      "Val Accuracy: 81.56%\n",
      "Epoch [70/100]\n",
      "Train Loss: 0.3831, Val Loss: 0.4386\n",
      "Val Accuracy: 81.01%\n",
      "Epoch [80/100]\n",
      "Train Loss: 0.3914, Val Loss: 0.4575\n",
      "Val Accuracy: 81.56%\n",
      "Epoch [90/100]\n",
      "Train Loss: 0.3724, Val Loss: 0.4638\n",
      "Val Accuracy: 81.56%\n",
      "Epoch [100/100]\n",
      "Train Loss: 0.3927, Val Loss: 0.4439\n",
      "Val Accuracy: 81.56%\n",
      "\n",
      "Creating submission file...\n",
      "\n",
      "Verifying submission format:\n",
      "Number of predictions: 418\n",
      "\n",
      "Prediction distribution:\n",
      "Survived\n",
      "0    288\n",
      "1    130\n",
      "Name: count, dtype: int64\n",
      "\n",
      "First few rows:\n",
      "   PassengerId  Survived\n",
      "0          892         0\n",
      "1          893         0\n",
      "2          894         0\n",
      "3          895         0\n",
      "4          896         0\n",
      "\n",
      "Final validation accuracy: 81.56%\n"
     ]
    },
    {
     "data": {
      "image/png": "[encoded data removed]",
      "text/plain": [
       "<Figure size 1200x400 with 2 Axes>"
      ]
     },
     "metadata": {},
     "output_type": "display_data"
    },
    {
     "name": "stdout",
     "output_type": "stream",
     "text": [
      "\n",
      "Final Submission Checks:\n",
      "1. Column names: ['PassengerId', 'Survived']\n",
      "2. Submission shape: (418, 2)\n",
      "3. Any missing values: 0\n",
      "4. Unique prediction values: [0 1]\n"
     ]
    }
   ],
   "source": [
    "# Execute the training pipeline\n",
    "print(\"Starting training pipeline...\")\n",
    "model, predictions, train_losses, val_losses, val_accuracies = run_training_pipeline(\n",
    "    train_data, \n",
    "    test_data, \n",
    "    batch_size=32\n",
    ")\n",
    "\n",
    "# Convert predictions to proper binary format\n",
    "binary_predictions = [1 if pred > 0.5 else 0 for pred in predictions]\n",
    "\n",
    "# Create submission file with correct format\n",
    "print(\"\\nCreating submission file...\")\n",
    "submission = pd.DataFrame({\n",
    "    'PassengerId': test_data['PassengerId'].astype(int),  # Ensure integer type\n",
    "    'Survived': binary_predictions  # Binary predictions (0 or 1)\n",
    "})\n",
    "\n",
    "# Verify submission format\n",
    "print(\"\\nVerifying submission format:\")\n",
    "print(f\"Number of predictions: {len(binary_predictions)}\")\n",
    "print(\"\\nPrediction distribution:\")\n",
    "print(submission['Survived'].value_counts())\n",
    "print(\"\\nFirst few rows:\")\n",
    "print(submission.head())\n",
    "\n",
    "# Save submission file\n",
    "submission.to_csv('submission.csv', index=False)\n",
    "\n",
    "# Print final validation accuracy\n",
    "final_accuracy = val_accuracies[-1]\n",
    "print(f\"\\nFinal validation accuracy: {final_accuracy:.2f}%\")\n",
    "\n",
    "# Plot training progress\n",
    "import matplotlib.pyplot as plt\n",
    "\n",
    "plt.figure(figsize=(12, 4))\n",
    "\n",
    "# Plot losses\n",
    "plt.subplot(1, 2, 1)\n",
    "plt.plot(train_losses, label='Training Loss')\n",
    "plt.plot(val_losses, label='Validation Loss')\n",
    "plt.title('Training and Validation Losses')\n",
    "plt.xlabel('Epoch')\n",
    "plt.ylabel('Loss')\n",
    "plt.legend()\n",
    "\n",
    "# Plot accuracy\n",
    "plt.subplot(1, 2, 2)\n",
    "plt.plot(val_accuracies, label='Validation Accuracy')\n",
    "plt.title('Validation Accuracy')\n",
    "plt.xlabel('Epoch')\n",
    "plt.ylabel('Accuracy (%)')\n",
    "plt.legend()\n",
    "\n",
    "plt.tight_layout()\n",
    "plt.show()\n",
    "\n",
    "# Final verification checks\n",
    "print(\"\\nFinal Submission Checks:\")\n",
    "print(\"1. Column names:\", submission.columns.tolist())\n",
    "print(\"2. Submission shape:\", submission.shape)\n",
    "print(\"3. Any missing values:\", submission.isnull().sum().sum())\n",
    "print(\"4. Unique prediction values:\", submission['Survived'].unique())"
   ]
  }
 ],
 "metadata": {
  "kaggle": {
   "accelerator": "none",
   "dataSources": [
    {
     "databundleVersionId": 26502,
     "sourceId": 3136,
     "sourceType": "competition"
    }
   ],
   "dockerImageVersionId": 30786,
   "isGpuEnabled": false,
   "isInternetEnabled": false,
   "language": "python",
   "sourceType": "notebook"
  },
  "kernelspec": {
   "display_name": "Python 3",
   "language": "python",
   "name": "python3"
  },
  "language_info": {
   "codemirror_mode": {
    "name": "ipython",
    "version": 3
   },
   "file_extension": ".py",
   "mimetype": "text/x-python",
   "name": "python",
   "nbconvert_exporter": "python",
   "pygments_lexer": "ipython3",
   "version": "3.10.14"
  },
  "papermill": {
   "default_parameters": {},
   "duration": 19.116261,
   "end_time": "2024-11-09T00:15:49.124826",
   "environment_variables": {},
   "exception": null,
   "input_path": "__notebook__.ipynb",
   "output_path": "__notebook__.ipynb",
   "parameters": {},
   "start_time": "2024-11-09T00:15:30.008565",
   "version": "2.6.0"
  }
 },
 "nbformat": 4,
 "nbformat_minor": 5
}
